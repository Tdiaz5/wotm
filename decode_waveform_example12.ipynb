{
 "cells": [
  {
   "cell_type": "markdown",
   "metadata": {},
   "source": [
    "### Read a waveform and plot\n",
    "\n",
    "  * Zet dit notebook in \"<base_dir>/FineStructure/\n",
    "  * Select the right filename with waveform data and presto!\n",
    "  * -m osc\n"
   ]
  },
  {
   "cell_type": "code",
   "execution_count": 1,
   "metadata": {},
   "outputs": [],
   "source": [
    "n = 50000"
   ]
  },
  {
   "cell_type": "code",
   "execution_count": 2,
   "metadata": {},
   "outputs": [],
   "source": [
    "import sys\n",
    "sys.path.insert(0,'python/')\n",
    "import struct\n",
    "import numpy as np\n",
    "import matplotlib.pyplot as plt\n",
    "import scipy.stats as ss\n",
    "\n",
    "from scipy.stats import norm\n",
    "from tqdm import trange\n",
    "from scipy.signal import find_peaks\n",
    "\n",
    "# import data handling claZss\n",
    "#from DT5550_Waveform import *"
   ]
  },
  {
   "cell_type": "code",
   "execution_count": 5,
   "metadata": {
    "scrolled": true
   },
   "outputs": [],
   "source": [
    "# specify your filename that contains teh waveform data\n",
    "# filename = 'C:/Users/flori/Desktop/python/testwave.data'\n",
    "# # open the waveform datafile\n",
    "# io = DT5550_Waveform(file=filename)\n",
    "file = open(\"C:/Users/flori/Desktop/python/testwave.data\", \"r\")"
   ]
  },
  {
   "cell_type": "code",
   "execution_count": 6,
   "metadata": {},
   "outputs": [
    {
     "name": "stderr",
     "output_type": "stream",
     "text": [
      "  0%|                                                                                        | 0/50000 [00:00<?, ?it/s]\n"
     ]
    },
    {
     "ename": "NameError",
     "evalue": "name 'io' is not defined",
     "output_type": "error",
     "traceback": [
      "\u001b[1;31m---------------------------------------------------------------------------\u001b[0m",
      "\u001b[1;31mNameError\u001b[0m                                 Traceback (most recent call last)",
      "\u001b[1;32m<ipython-input-6-5cb5803e8cc8>\u001b[0m in \u001b[0;36m<module>\u001b[1;34m\u001b[0m\n\u001b[0;32m      3\u001b[0m \u001b[0monderste_detector\u001b[0m \u001b[1;33m=\u001b[0m \u001b[1;33m[\u001b[0m\u001b[1;33m]\u001b[0m\u001b[1;33m\u001b[0m\u001b[1;33m\u001b[0m\u001b[0m\n\u001b[0;32m      4\u001b[0m \u001b[1;32mfor\u001b[0m \u001b[0mi\u001b[0m \u001b[1;32min\u001b[0m \u001b[0mtrange\u001b[0m\u001b[1;33m(\u001b[0m\u001b[0mn\u001b[0m\u001b[1;33m)\u001b[0m\u001b[1;33m:\u001b[0m\u001b[1;33m\u001b[0m\u001b[1;33m\u001b[0m\u001b[0m\n\u001b[1;32m----> 5\u001b[1;33m     \u001b[0mio\u001b[0m\u001b[1;33m.\u001b[0m\u001b[0mread_event\u001b[0m\u001b[1;33m(\u001b[0m\u001b[1;33m)\u001b[0m\u001b[1;33m\u001b[0m\u001b[1;33m\u001b[0m\u001b[0m\n\u001b[0m\u001b[0;32m      6\u001b[0m     \u001b[0midet\u001b[0m \u001b[1;33m=\u001b[0m \u001b[1;36m0\u001b[0m\u001b[1;33m\u001b[0m\u001b[1;33m\u001b[0m\u001b[0m\n\u001b[0;32m      7\u001b[0m     \u001b[0msomatie1\u001b[0m \u001b[1;33m=\u001b[0m \u001b[0msum\u001b[0m\u001b[1;33m(\u001b[0m\u001b[0mio\u001b[0m\u001b[1;33m.\u001b[0m\u001b[0manalog\u001b[0m\u001b[1;33m[\u001b[0m\u001b[0midet\u001b[0m\u001b[1;33m]\u001b[0m\u001b[1;33m[\u001b[0m\u001b[1;33m:\u001b[0m\u001b[1;33m-\u001b[0m\u001b[1;36m2\u001b[0m\u001b[1;33m]\u001b[0m\u001b[1;33m[\u001b[0m\u001b[1;33m:\u001b[0m\u001b[1;36m200\u001b[0m\u001b[1;33m]\u001b[0m\u001b[1;33m)\u001b[0m\u001b[1;33m\u001b[0m\u001b[1;33m\u001b[0m\u001b[0m\n",
      "\u001b[1;31mNameError\u001b[0m: name 'io' is not defined"
     ]
    }
   ],
   "source": [
    "# io = DT5550_Waveform(file=filename)\n",
    "bovenste_detector = []\n",
    "onderste_detector = []\n",
    "for i in trange(n):\n",
    "    io.read_event()\n",
    "    idet = 0\n",
    "    somatie1 = sum(io.analog[idet][:-2][:200])\n",
    "    baseline1 = somatie1 / 200\n",
    "    nieuwe_data1 = io.analog[idet][:-2] - baseline1\n",
    "    idet = 1\n",
    "    somatie2 = sum(io.analog[idet][:-2][:200])\n",
    "    baseline2 = somatie2 / 200\n",
    "    nieuwe_data2 = io.analog[idet][:-2] - baseline2\n",
    "    bovenste_detector.append(nieuwe_data1)\n",
    "    onderste_detector.append(nieuwe_data2)"
   ]
  },
  {
   "cell_type": "code",
   "execution_count": 217,
   "metadata": {},
   "outputs": [
    {
     "name": "stderr",
     "output_type": "stream",
     "text": [
      "100%|██████████████████████████████████████████████████████████████████████████| 10000/10000 [00:01<00:00, 7902.05it/s]"
     ]
    },
    {
     "name": "stdout",
     "output_type": "stream",
     "text": [
      "3769 3769\n"
     ]
    },
    {
     "name": "stderr",
     "output_type": "stream",
     "text": [
      "\n"
     ]
    }
   ],
   "source": [
    "bov_cutoff_list = []\n",
    "ond_cutoff_list = []\n",
    "\n",
    "for i in trange(n):\n",
    "    #cut all events before 250 clockseconds\n",
    "    if max(bovenste_detector[i][:250]) < 30 and max(onderste_detector[i][:250]) < 30:\n",
    "        #each max hit event should be above 50\n",
    "        if max(bovenste_detector[i]) > 50 and max(onderste_detector[i]) > 50:\n",
    "            #each max hit should lie around 250ns, as we believe that is what the firmware does\n",
    "            if max(bovenste_detector[i][:300]) > 50 and max(onderste_detector[i][:300]) > 50:\n",
    "                bov_cutoff_list.append(np.array(bovenste_detector[i])/max(bovenste_detector[i]))\n",
    "                ond_cutoff_list.append(np.array(onderste_detector[i])/max(onderste_detector[i]))\n",
    "#                 bov_cutoff_list.append(np.array(bovenste_detector[i]))\n",
    "#                 ond_cutoff_list.append(np.array(onderste_detector[i]))\n",
    "\n",
    "print(len(ond_cutoff_list), len(bov_cutoff_list))"
   ]
  },
  {
   "cell_type": "code",
   "execution_count": 218,
   "metadata": {
    "scrolled": false
   },
   "outputs": [
    {
     "name": "stderr",
     "output_type": "stream",
     "text": [
      "100%|███████████████████████████████████████████████████████████████████████████| 3769/3769 [00:00<00:00, 48940.54it/s]\n"
     ]
    },
    {
     "name": "stdout",
     "output_type": "stream",
     "text": [
      "1224\n"
     ]
    },
    {
     "data": {
      "image/png": "[encoded data removed]",
      "text/plain": [
       "<Figure size 432x288 with 1 Axes>"
      ]
     },
     "metadata": {
      "needs_background": "light"
     },
     "output_type": "display_data"
    }
   ],
   "source": [
    "selected_data_list_top = []\n",
    "selected_data_list_bottom = []\n",
    "int_list = []\n",
    "counter = 0\n",
    "for i in trange(len(bov_cutoff_list)):\n",
    "    integraal1= np.trapz(ond_cutoff_list[i]) * (12.5*10**-9) * 10000\n",
    "    integraal2= np.trapz(bov_cutoff_list[i]) * (12.5*10**-9) * 10000\n",
    "    int_list.append(integraal1-integraal2)\n",
    "    \n",
    "    if integraal1-integraal2 > 0.001:\n",
    "        counter += 1\n",
    "        selected_data_list_top.append(bov_cutoff_list[i])\n",
    "        selected_data_list_bottom.append(ond_cutoff_list[i])\n",
    "\n",
    "print(counter)\n",
    "plt.hist(int_list, 1000)\n",
    "# plt.xlim(0, 10)\n",
    "plt.show()"
   ]
  },
  {
   "cell_type": "code",
   "execution_count": 368,
   "metadata": {
    "scrolled": true
   },
   "outputs": [
    {
     "data": {
      "image/png": "[encoded data removed]",
      "text/plain": [
       "<Figure size 432x288 with 1 Axes>"
      ]
     },
     "metadata": {
      "needs_background": "light"
     },
     "output_type": "display_data"
    }
   ],
   "source": [
    "distance_list = []\n",
    "\n",
    "for i in range(counter):\n",
    "#     print(len(find_peaks(selected_data_list_bottom[i], 0.25, distance = 25, threshold=0.06)[0]))\n",
    "    if len(find_peaks(selected_data_list_bottom[i], 0.25, distance = 100, threshold=0.06)[0]) >=2:\n",
    "        distance = find_peaks(selected_data_list_bottom[i], 0.25, distance = 100, threshold=0.06)[0][1] - find_peaks(selected_data_list_bottom[i], 0.25, distance = 100, threshold=0.06)[0][0]\n",
    "        distance_list.append(distance)\n",
    "#         print(\"JA JAJAJAJ\", distance)\n",
    "        \n",
    "#     plt.plot(selected_data_list_top[i])\n",
    "#     plt.plot(selected_data_list_bottom[i])\n",
    "#     plt.show()\n",
    "    \n",
    "plt.hist(distance_list, 70)\n",
    "plt.xlim(0,200)\n",
    "plt.show()"
   ]
  },
  {
   "cell_type": "code",
   "execution_count": 369,
   "metadata": {},
   "outputs": [],
   "source": [
    "def exponential(t, N0,labda):\n",
    "    return N0*np.exp(-labda*t)"
   ]
  },
  {
   "cell_type": "code",
   "execution_count": 372,
   "metadata": {},
   "outputs": [
    {
     "name": "stdout",
     "output_type": "stream",
     "text": [
      "2.2344798303529225e-06\n"
     ]
    },
    {
     "data": {
      "image/png": "[encoded data removed]",
      "text/plain": [
       "<Figure size 432x288 with 1 Axes>"
      ]
     },
     "metadata": {
      "needs_background": "light"
     },
     "output_type": "display_data"
    }
   ],
   "source": [
    "bins = plt.hist(distance_list, 70)\n",
    "plt.close()\n",
    "loca = ((bins[1]-100) * 12.5 * 10**(-9))\n",
    "bins = bins[0]\n",
    "\n",
    "p0 = (10, 454545)\n",
    "\n",
    "params, cv = scipy.optimize.curve_fit(exponential, loca[:-1], bins, p0)\n",
    "\n",
    "N0, labda = params\n",
    "\n",
    "print(1/labda)\n",
    "plt.scatter(loca[:-1], bins)\n",
    "plt.plot(np.linspace(0,loca[-1],1000), exponential(np.linspace(0,loca[-1],1000), N0, labda ))\n",
    "plt.show()"
   ]
  },
  {
   "cell_type": "code",
   "execution_count": null,
   "metadata": {},
   "outputs": [],
   "source": []
  },
  {
   "cell_type": "code",
   "execution_count": null,
   "metadata": {},
   "outputs": [],
   "source": []
  },
  {
   "cell_type": "code",
   "execution_count": null,
   "metadata": {},
   "outputs": [],
   "source": []
  },
  {
   "cell_type": "code",
   "execution_count": null,
   "metadata": {},
   "outputs": [],
   "source": [
    "nevent = 1000\n",
    "integraal_lijst = []\n",
    "\n",
    "for b in trange(nevent):\n",
    "    io.read_event()\n",
    "    idet = 1\n",
    "    somatie1 = sum(io.analog[idet][:-2][:100])\n",
    "    baseline1 = somatie1 / 100\n",
    "    nieuwe_data1 = io.analog[idet][:-2] - baseline1\n",
    "    integraal1= np.trapz(nieuwe_data1[250:400],((12.5*10**-9)*np.linspace(250,400,150)))\n",
    "    \n",
    "    idet = 0\n",
    "    somatie2 = sum(io.analog[idet][:-2][:100])\n",
    "    baseline2 = somatie2 / 100\n",
    "    nieuwe_data2 = io.analog[idet][:-2] - baseline2\n",
    "    integraal2= np.trapz(nieuwe_data2[250:400],((12.5*10**-9)*np.linspace(250,400,150)))    \n",
    "\n",
    "    integraal_lijst.append((integraal1-integraal2)/(integraal1+integraal2))\n",
    "plt.hist(integraal_lijst,bins=1000)\n",
    "plt.xlim(-5,5)\n",
    "plt.show()"
   ]
  },
  {
   "cell_type": "code",
   "execution_count": null,
   "metadata": {},
   "outputs": [],
   "source": [
    "plt.hist(integraal_lijst,bins=1000)\n",
    "plt.axvline(x=1.5)\n",
    "plt.xlim(-5,5)\n",
    "plt.show()\n"
   ]
  },
  {
   "cell_type": "code",
   "execution_count": null,
   "metadata": {},
   "outputs": [],
   "source": [
    "sliced = []\n",
    "\n",
    "for i in range(len(integraal_lijst)):\n",
    "    if integraal_lijst[i] > 1.5:\n",
    "        sliced.append(True)\n",
    "    else:\n",
    "        sliced.append(False)\n",
    "\n",
    "io = DT5550_Waveform(file=filename)"
   ]
  },
  {
   "cell_type": "code",
   "execution_count": null,
   "metadata": {
    "scrolled": true
   },
   "outputs": [],
   "source": [
    "i = 0\n",
    "\n",
    "for i in range(len(io.analog[idet][:-2])):\n",
    "    io.read_event()\n",
    "    if sliced[i]:\n",
    "        idet = 0\n",
    "        somatie1 = sum(io.analog[idet][:-2][:100])\n",
    "        baseline1 = somatie1 / 100\n",
    "        nieuwe_data1 = io.analog[idet][:-2] - baseline1\n",
    "        plt.plot(nieuwe_data1)\n",
    "        idet = 1\n",
    "        somatie2 = sum(io.analog[idet][:-2][:100])\n",
    "        baseline2 = somatie2 / 100\n",
    "        nieuwe_data2 = io.analog[idet][:-2] - baseline2\n",
    "        plt.plot(nieuwe_data2)\n",
    "        plt.show()"
   ]
  },
  {
   "cell_type": "code",
   "execution_count": null,
   "metadata": {},
   "outputs": [],
   "source": []
  },
  {
   "cell_type": "code",
   "execution_count": null,
   "metadata": {},
   "outputs": [],
   "source": []
  },
  {
   "cell_type": "code",
   "execution_count": null,
   "metadata": {},
   "outputs": [],
   "source": [
    "# detector number between 0 and 7\n",
    "io = DT5550_Waveform(file=filename)\n",
    "# plot the analog data: for each detector the waveforms are stored. The last entry of the data array is crap.\n",
    "for i in range(25):\n",
    "    io.read_event()\n",
    "#     idet = 0\n",
    "#     plt.plot(io.analog[idet][:-2])\n",
    "    idet = 1\n",
    "    plt.plot(io.analog[idet][:-2])\n",
    "    plt.title(i)\n",
    "    plt.xlabel('time [x12.5 ns]')\n",
    "    plt.show()"
   ]
  },
  {
   "cell_type": "code",
   "execution_count": null,
   "metadata": {},
   "outputs": [],
   "source": [
    "nevent = 1000\n",
    "io = DT5550_Waveform(file=filename)\n",
    "hist_lijst = []\n",
    "for i in range(nevent):\n",
    "    io.read_event()\n",
    "    baseline = 1540\n",
    "    n = 0 \n",
    "    first_hit_j = 100000000\n",
    "    second_hit_j = 0\n",
    "    idet = 1\n",
    "    for j in range(len(io.analog[idet][:-2])):\n",
    "        if io.analog[idet][:-2][j] > baseline + 100 and n==0 :\n",
    "            n = 1\n",
    "            # first_hit_j = j\n",
    "            maximum = max(io.analog[idet][:-2][j:j+20])\n",
    "            index = np.where(io.analog[idet][:-2][j:j+20] == maximum)\n",
    "            first_hit_j = index[0][0] + j\n",
    "            \n",
    "        if n==1 and j > first_hit_j + 50 and io.analog[idet][:-2][j] > baseline + 75:\n",
    "            # second_hit_j = j\n",
    "            maximum2 = max(io.analog[idet][:-2][j:j+20])\n",
    "            index2 = np.where(io.analog[idet][:-2][j:j+20] == maximum2)\n",
    "            second_hit_j = index2[0][0] + j\n",
    "            n = 2\n",
    "                \n",
    "    if n==2 and abs(io.analog[idet][:-2][second_hit_j] - io.analog[idet][:-2][first_hit_j]) > 75:\n",
    "        n = 1\n",
    "        \n",
    "    if n==2:\n",
    "        print(\"Event number\", i)\n",
    "        print(first_hit_j, second_hit_j)\n",
    "        print(\"time is:\", abs(first_hit_j - second_hit_j) * 12.5 /1000, \"Microseconds\")\n",
    "        print(io.analog[idet][:-2][first_hit_j], io.analog[idet][:-2][second_hit_j])\n",
    "        print(second_hit_j - first_hit_j)  \n",
    "        totalmax = max(io.analog[idet][:-2][:])\n",
    "        print(\"total maximum \", totalmax)\n",
    "        totalmaxindex = np.where(io.analog[idet][:-2][:] == totalmax)\n",
    "        print(\"total maximum index \", totalmaxindex[0][0])\n",
    "        hist_lijst.append(second_hit_j - first_hit_j)\n",
    "plt.hist(hist_lijst)\n",
    "plt.show()"
   ]
  },
  {
   "cell_type": "code",
   "execution_count": null,
   "metadata": {},
   "outputs": [],
   "source": [
    "plt.hist([x for x in hist_lijst if x > 150],bins=10)\n",
    "plt.show()"
   ]
  },
  {
   "cell_type": "code",
   "execution_count": null,
   "metadata": {},
   "outputs": [],
   "source": [
    "import numpy as np\n",
    "\n",
    "x_list = [x for x in range(0, 1001, 100)]\n",
    "y_list = [0 for x in x_list]\n",
    "\n",
    "for hist in hist_lijst:\n",
    "    value = int(hist / 100) * 100\n",
    "    y_list[x_list.index(value)] += 1\n",
    "    \n",
    "values = np.polyfit(np.log(np.array(x_list))[2:], y_list[2:], 1)\n",
    "print(values)"
   ]
  }
 ],
 "metadata": {
  "kernelspec": {
   "display_name": "Python 3",
   "language": "python",
   "name": "python3"
  },
  "language_info": {
   "codemirror_mode": {
    "name": "ipython",
    "version": 3
   },
   "file_extension": ".py",
   "mimetype": "text/x-python",
   "name": "python",
   "nbconvert_exporter": "python",
   "pygments_lexer": "ipython3",
   "version": "3.7.4"
  }
 },
 "nbformat": 4,
 "nbformat_minor": 5
}
